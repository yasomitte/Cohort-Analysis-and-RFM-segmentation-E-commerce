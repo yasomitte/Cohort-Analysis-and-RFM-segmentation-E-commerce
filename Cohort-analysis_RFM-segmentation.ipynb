{
 "cells": [
  {
   "cell_type": "code",
   "execution_count": 14,
   "metadata": {},
   "outputs": [],
   "source": [
    "import pandas as pd\n",
    "from datetime import datetime\n",
    "from datetime import timedelta\n",
    "import numpy as np\n",
    "import matplotlib.pyplot as plt\n",
    "import seaborn as sns\n",
    "%matplotlib inline\n",
    "import requests\n",
    "from urllib.parse import urlencode"
   ]
  },
  {
   "cell_type": "code",
   "execution_count": 15,
   "metadata": {},
   "outputs": [],
   "source": [
    "sns.set(\n",
    "    font_scale=1,\n",
    "    style=\"whitegrid\",\n",
    "    rc={'figure.figsize':(12,7)}\n",
    "        )"
   ]
  },
  {
   "cell_type": "markdown",
   "metadata": {},
   "source": [
    "# EDA"
   ]
  },
  {
   "cell_type": "code",
   "execution_count": 19,
   "metadata": {},
   "outputs": [],
   "source": [
    "base_url = 'https://cloud-api.yandex.net/v1/disk/public/resources/download?'\n",
    "public_key_customers = 'https://disk.yandex.ru/d/QXrVDUoQvFhIcg'\n",
    "\n",
    "# Получаем загрузочную ссылку\n",
    "final_url_customers = base_url + urlencode(dict(public_key_customers=public_key))\n",
    "response_customers = requests.get(final_url)\n",
    "download_url_customers = response.json()['href']\n",
    "\n",
    "# Считываем файл в виде датафрейма\n",
    "customers = pd.read_csv(download_url_customers)"
   ]
  },
  {
   "cell_type": "code",
   "execution_count": 20,
   "metadata": {},
   "outputs": [
    {
     "data": {
      "text/html": [
       "<div>\n",
       "<style scoped>\n",
       "    .dataframe tbody tr th:only-of-type {\n",
       "        vertical-align: middle;\n",
       "    }\n",
       "\n",
       "    .dataframe tbody tr th {\n",
       "        vertical-align: top;\n",
       "    }\n",
       "\n",
       "    .dataframe thead th {\n",
       "        text-align: right;\n",
       "    }\n",
       "</style>\n",
       "<table border=\"1\" class=\"dataframe\">\n",
       "  <thead>\n",
       "    <tr style=\"text-align: right;\">\n",
       "      <th></th>\n",
       "      <th>customer_id</th>\n",
       "      <th>customer_unique_id</th>\n",
       "      <th>customer_zip_code_prefix</th>\n",
       "      <th>customer_city</th>\n",
       "      <th>customer_state</th>\n",
       "    </tr>\n",
       "  </thead>\n",
       "  <tbody>\n",
       "    <tr>\n",
       "      <th>0</th>\n",
       "      <td>06b8999e2fba1a1fbc88172c00ba8bc7</td>\n",
       "      <td>861eff4711a542e4b93843c6dd7febb0</td>\n",
       "      <td>14409</td>\n",
       "      <td>franca</td>\n",
       "      <td>SP</td>\n",
       "    </tr>\n",
       "    <tr>\n",
       "      <th>1</th>\n",
       "      <td>18955e83d337fd6b2def6b18a428ac77</td>\n",
       "      <td>290c77bc529b7ac935b93aa66c333dc3</td>\n",
       "      <td>9790</td>\n",
       "      <td>sao bernardo do campo</td>\n",
       "      <td>SP</td>\n",
       "    </tr>\n",
       "    <tr>\n",
       "      <th>2</th>\n",
       "      <td>4e7b3e00288586ebd08712fdd0374a03</td>\n",
       "      <td>060e732b5b29e8181a18229c7b0b2b5e</td>\n",
       "      <td>1151</td>\n",
       "      <td>sao paulo</td>\n",
       "      <td>SP</td>\n",
       "    </tr>\n",
       "    <tr>\n",
       "      <th>3</th>\n",
       "      <td>b2b6027bc5c5109e529d4dc6358b12c3</td>\n",
       "      <td>259dac757896d24d7702b9acbbff3f3c</td>\n",
       "      <td>8775</td>\n",
       "      <td>mogi das cruzes</td>\n",
       "      <td>SP</td>\n",
       "    </tr>\n",
       "    <tr>\n",
       "      <th>4</th>\n",
       "      <td>4f2d8ab171c80ec8364f7c12e35b23ad</td>\n",
       "      <td>345ecd01c38d18a9036ed96c73b8d066</td>\n",
       "      <td>13056</td>\n",
       "      <td>campinas</td>\n",
       "      <td>SP</td>\n",
       "    </tr>\n",
       "  </tbody>\n",
       "</table>\n",
       "</div>"
      ],
      "text/plain": [
       "                        customer_id                customer_unique_id  \\\n",
       "0  06b8999e2fba1a1fbc88172c00ba8bc7  861eff4711a542e4b93843c6dd7febb0   \n",
       "1  18955e83d337fd6b2def6b18a428ac77  290c77bc529b7ac935b93aa66c333dc3   \n",
       "2  4e7b3e00288586ebd08712fdd0374a03  060e732b5b29e8181a18229c7b0b2b5e   \n",
       "3  b2b6027bc5c5109e529d4dc6358b12c3  259dac757896d24d7702b9acbbff3f3c   \n",
       "4  4f2d8ab171c80ec8364f7c12e35b23ad  345ecd01c38d18a9036ed96c73b8d066   \n",
       "\n",
       "   customer_zip_code_prefix          customer_city customer_state  \n",
       "0                     14409                 franca             SP  \n",
       "1                      9790  sao bernardo do campo             SP  \n",
       "2                      1151              sao paulo             SP  \n",
       "3                      8775        mogi das cruzes             SP  \n",
       "4                     13056               campinas             SP  "
      ]
     },
     "execution_count": 20,
     "metadata": {},
     "output_type": "execute_result"
    }
   ],
   "source": [
    "customers.head()"
   ]
  },
  {
   "cell_type": "code",
   "execution_count": 21,
   "metadata": {},
   "outputs": [
    {
     "data": {
      "text/plain": [
       "(99441, 5)"
      ]
     },
     "execution_count": 21,
     "metadata": {},
     "output_type": "execute_result"
    }
   ],
   "source": [
    "customers.shape"
   ]
  },
  {
   "cell_type": "code",
   "execution_count": 22,
   "metadata": {},
   "outputs": [
    {
     "data": {
      "text/plain": [
       "customer_id                 0\n",
       "customer_unique_id          0\n",
       "customer_zip_code_prefix    0\n",
       "customer_city               0\n",
       "customer_state              0\n",
       "dtype: int64"
      ]
     },
     "execution_count": 22,
     "metadata": {},
     "output_type": "execute_result"
    }
   ],
   "source": [
    "customers.isna().sum()"
   ]
  },
  {
   "cell_type": "code",
   "execution_count": 23,
   "metadata": {},
   "outputs": [],
   "source": [
    "public_key_orders = 'https://disk.yandex.ru/d/0zWmh1bYP6REbw'\n",
    "\n",
    "# Получаем загрузочную ссылку\n",
    "final_url_orders = base_url + urlencode(dict(public_key_orders=public_key))\n",
    "response_orders = requests.get(final_url)\n",
    "download_url_orders = response.json()['href']\n",
    "\n",
    "# Считываем файл в виде датафрейма\n",
    "orders = pd.read_csv(download_url_orders)"
   ]
  },
  {
   "cell_type": "code",
   "execution_count": 24,
   "metadata": {},
   "outputs": [
    {
     "data": {
      "text/html": [
       "<div>\n",
       "<style scoped>\n",
       "    .dataframe tbody tr th:only-of-type {\n",
       "        vertical-align: middle;\n",
       "    }\n",
       "\n",
       "    .dataframe tbody tr th {\n",
       "        vertical-align: top;\n",
       "    }\n",
       "\n",
       "    .dataframe thead th {\n",
       "        text-align: right;\n",
       "    }\n",
       "</style>\n",
       "<table border=\"1\" class=\"dataframe\">\n",
       "  <thead>\n",
       "    <tr style=\"text-align: right;\">\n",
       "      <th></th>\n",
       "      <th>customer_id</th>\n",
       "      <th>customer_unique_id</th>\n",
       "      <th>customer_zip_code_prefix</th>\n",
       "      <th>customer_city</th>\n",
       "      <th>customer_state</th>\n",
       "    </tr>\n",
       "  </thead>\n",
       "  <tbody>\n",
       "    <tr>\n",
       "      <th>0</th>\n",
       "      <td>06b8999e2fba1a1fbc88172c00ba8bc7</td>\n",
       "      <td>861eff4711a542e4b93843c6dd7febb0</td>\n",
       "      <td>14409</td>\n",
       "      <td>franca</td>\n",
       "      <td>SP</td>\n",
       "    </tr>\n",
       "    <tr>\n",
       "      <th>1</th>\n",
       "      <td>18955e83d337fd6b2def6b18a428ac77</td>\n",
       "      <td>290c77bc529b7ac935b93aa66c333dc3</td>\n",
       "      <td>9790</td>\n",
       "      <td>sao bernardo do campo</td>\n",
       "      <td>SP</td>\n",
       "    </tr>\n",
       "    <tr>\n",
       "      <th>2</th>\n",
       "      <td>4e7b3e00288586ebd08712fdd0374a03</td>\n",
       "      <td>060e732b5b29e8181a18229c7b0b2b5e</td>\n",
       "      <td>1151</td>\n",
       "      <td>sao paulo</td>\n",
       "      <td>SP</td>\n",
       "    </tr>\n",
       "    <tr>\n",
       "      <th>3</th>\n",
       "      <td>b2b6027bc5c5109e529d4dc6358b12c3</td>\n",
       "      <td>259dac757896d24d7702b9acbbff3f3c</td>\n",
       "      <td>8775</td>\n",
       "      <td>mogi das cruzes</td>\n",
       "      <td>SP</td>\n",
       "    </tr>\n",
       "    <tr>\n",
       "      <th>4</th>\n",
       "      <td>4f2d8ab171c80ec8364f7c12e35b23ad</td>\n",
       "      <td>345ecd01c38d18a9036ed96c73b8d066</td>\n",
       "      <td>13056</td>\n",
       "      <td>campinas</td>\n",
       "      <td>SP</td>\n",
       "    </tr>\n",
       "  </tbody>\n",
       "</table>\n",
       "</div>"
      ],
      "text/plain": [
       "                        customer_id                customer_unique_id  \\\n",
       "0  06b8999e2fba1a1fbc88172c00ba8bc7  861eff4711a542e4b93843c6dd7febb0   \n",
       "1  18955e83d337fd6b2def6b18a428ac77  290c77bc529b7ac935b93aa66c333dc3   \n",
       "2  4e7b3e00288586ebd08712fdd0374a03  060e732b5b29e8181a18229c7b0b2b5e   \n",
       "3  b2b6027bc5c5109e529d4dc6358b12c3  259dac757896d24d7702b9acbbff3f3c   \n",
       "4  4f2d8ab171c80ec8364f7c12e35b23ad  345ecd01c38d18a9036ed96c73b8d066   \n",
       "\n",
       "   customer_zip_code_prefix          customer_city customer_state  \n",
       "0                     14409                 franca             SP  \n",
       "1                      9790  sao bernardo do campo             SP  \n",
       "2                      1151              sao paulo             SP  \n",
       "3                      8775        mogi das cruzes             SP  \n",
       "4                     13056               campinas             SP  "
      ]
     },
     "execution_count": 24,
     "metadata": {},
     "output_type": "execute_result"
    }
   ],
   "source": [
    "orders.head()"
   ]
  },
  {
   "cell_type": "code",
   "execution_count": 25,
   "metadata": {},
   "outputs": [
    {
     "data": {
      "text/plain": [
       "(99441, 5)"
      ]
     },
     "execution_count": 25,
     "metadata": {},
     "output_type": "execute_result"
    }
   ],
   "source": [
    "orders.shape"
   ]
  },
  {
   "cell_type": "code",
   "execution_count": 26,
   "metadata": {},
   "outputs": [
    {
     "data": {
      "text/plain": [
       "customer_id                 0\n",
       "customer_unique_id          0\n",
       "customer_zip_code_prefix    0\n",
       "customer_city               0\n",
       "customer_state              0\n",
       "dtype: int64"
      ]
     },
     "execution_count": 26,
     "metadata": {},
     "output_type": "execute_result"
    }
   ],
   "source": [
    "orders.isna().sum()"
   ]
  },
  {
   "cell_type": "code",
   "execution_count": 27,
   "metadata": {},
   "outputs": [
    {
     "ename": "AttributeError",
     "evalue": "'DataFrame' object has no attribute 'order_status'",
     "output_type": "error",
     "traceback": [
      "\u001b[1;31m---------------------------------------------------------------------------\u001b[0m",
      "\u001b[1;31mAttributeError\u001b[0m                            Traceback (most recent call last)",
      "Cell \u001b[1;32mIn[27], line 1\u001b[0m\n\u001b[1;32m----> 1\u001b[0m orders\u001b[38;5;241m.\u001b[39morder_status\u001b[38;5;241m.\u001b[39munique()\n",
      "File \u001b[1;32m~\\anaconda3\\Lib\\site-packages\\pandas\\core\\generic.py:6204\u001b[0m, in \u001b[0;36mNDFrame.__getattr__\u001b[1;34m(self, name)\u001b[0m\n\u001b[0;32m   6197\u001b[0m \u001b[38;5;28;01mif\u001b[39;00m (\n\u001b[0;32m   6198\u001b[0m     name \u001b[38;5;129;01mnot\u001b[39;00m \u001b[38;5;129;01min\u001b[39;00m \u001b[38;5;28mself\u001b[39m\u001b[38;5;241m.\u001b[39m_internal_names_set\n\u001b[0;32m   6199\u001b[0m     \u001b[38;5;129;01mand\u001b[39;00m name \u001b[38;5;129;01mnot\u001b[39;00m \u001b[38;5;129;01min\u001b[39;00m \u001b[38;5;28mself\u001b[39m\u001b[38;5;241m.\u001b[39m_metadata\n\u001b[0;32m   6200\u001b[0m     \u001b[38;5;129;01mand\u001b[39;00m name \u001b[38;5;129;01mnot\u001b[39;00m \u001b[38;5;129;01min\u001b[39;00m \u001b[38;5;28mself\u001b[39m\u001b[38;5;241m.\u001b[39m_accessors\n\u001b[0;32m   6201\u001b[0m     \u001b[38;5;129;01mand\u001b[39;00m \u001b[38;5;28mself\u001b[39m\u001b[38;5;241m.\u001b[39m_info_axis\u001b[38;5;241m.\u001b[39m_can_hold_identifiers_and_holds_name(name)\n\u001b[0;32m   6202\u001b[0m ):\n\u001b[0;32m   6203\u001b[0m     \u001b[38;5;28;01mreturn\u001b[39;00m \u001b[38;5;28mself\u001b[39m[name]\n\u001b[1;32m-> 6204\u001b[0m \u001b[38;5;28;01mreturn\u001b[39;00m \u001b[38;5;28mobject\u001b[39m\u001b[38;5;241m.\u001b[39m\u001b[38;5;21m__getattribute__\u001b[39m(\u001b[38;5;28mself\u001b[39m, name)\n",
      "\u001b[1;31mAttributeError\u001b[0m: 'DataFrame' object has no attribute 'order_status'"
     ]
    }
   ],
   "source": [
    "orders.order_status.unique()"
   ]
  },
  {
   "cell_type": "code",
   "execution_count": null,
   "metadata": {
    "scrolled": true
   },
   "outputs": [],
   "source": [
    "orders.head()"
   ]
  },
  {
   "cell_type": "code",
   "execution_count": null,
   "metadata": {},
   "outputs": [],
   "source": [
    "orders.order_status.value_counts()"
   ]
  },
  {
   "cell_type": "code",
   "execution_count": null,
   "metadata": {},
   "outputs": [],
   "source": [
    "# Сразу переведем столбцы с датой в datetime\n",
    "\n",
    "orders.order_purchase_timestamp = pd.to_datetime(orders.order_purchase_timestamp)\n",
    "orders.order_approved_at = pd.to_datetime(orders.order_approved_at)\n",
    "orders.order_delivered_carrier_date = pd.to_datetime(orders.order_delivered_carrier_date)\n",
    "orders.order_delivered_customer_date = pd.to_datetime(orders.order_delivered_customer_date)\n",
    "orders.order_estimated_delivery_date = pd.to_datetime(orders.order_estimated_delivery_date)"
   ]
  },
  {
   "cell_type": "code",
   "execution_count": null,
   "metadata": {},
   "outputs": [],
   "source": [
    "today = orders['order_purchase_timestamp'].max() + timedelta(days=1)"
   ]
  },
  {
   "cell_type": "code",
   "execution_count": null,
   "metadata": {
    "scrolled": true
   },
   "outputs": [],
   "source": [
    "today"
   ]
  },
  {
   "cell_type": "code",
   "execution_count": null,
   "metadata": {
    "scrolled": false
   },
   "outputs": [],
   "source": [
    "# Посмотрим сколько у нас заказов статуса \"shipped\", которые опаздывают\n",
    "\n",
    "orders.query('order_status == \"shipped\"')[orders['order_estimated_delivery_date'] < today].shape[0]"
   ]
  },
  {
   "cell_type": "code",
   "execution_count": null,
   "metadata": {},
   "outputs": [],
   "source": [
    "# Насколько заказ опаздывает (в днях), если он не был доставлен, и насколько опоздал, если уже доставлен?\n",
    "\n",
    "orders['is_late'] = np.where(orders['order_status'] == 'delivered', (orders['order_delivered_customer_date'] - orders['order_estimated_delivery_date']).dt.days, (today - orders['order_estimated_delivery_date']).dt.days)\n",
    "orders['is_late'] = np.where(orders['is_late'] > 0, orders['is_late'], 0)"
   ]
  },
  {
   "cell_type": "code",
   "execution_count": null,
   "metadata": {},
   "outputs": [],
   "source": [
    "orders.dtypes"
   ]
  },
  {
   "cell_type": "code",
   "execution_count": null,
   "metadata": {},
   "outputs": [],
   "source": [
    "# Примем, что заказ, который имеет статус \"shipped\" и опаздывает более, чем на 30 дней - не будет доставлен. \n",
    "# Посмотрим долю таких заказов, чтобы принять решение, куда определить статус \"shipped\"\n",
    "\n",
    "orders.query('order_status == \"shipped\" & is_late > 30').shape[0] / orders.query('order_status == \"shipped\"').shape[0]"
   ]
  },
  {
   "cell_type": "code",
   "execution_count": null,
   "metadata": {},
   "outputs": [],
   "source": [
    "# Аналогично посмотрим на заказы со статусом \"approved\"\n",
    "\n",
    "orders.query('order_status == \"approved\" & is_late > 30').shape[0] / orders.query('order_status == \"approved\"').shape[0]"
   ]
  },
  {
   "cell_type": "markdown",
   "metadata": {},
   "source": [
    "Таких заказов практически 100%, поэтому можем смело считать, что заказы со статусом \"approved\" и \"shipped\" не являются покупками (неизвесто, дойдут они или нет)"
   ]
  },
  {
   "cell_type": "markdown",
   "metadata": {},
   "source": [
    "# Покупкой будем считать оплаченные заказы, которые, вероятнее всего, будут доставлены, то есть остаются только заказы со статусом \"delivered\" (100% заказов \"approved\" и 99.99% заказов \"shipped\" опаздывают более, чем на месяц, и их можно не учитывать)."
   ]
  },
  {
   "cell_type": "markdown",
   "metadata": {},
   "source": [
    "# Часть 1"
   ]
  },
  {
   "cell_type": "code",
   "execution_count": null,
   "metadata": {},
   "outputs": [],
   "source": [
    "num_orders_by_customers = orders \\\n",
    "    .merge(customers, how='left', on='customer_id') \\\n",
    "    .query('order_status == \"delivered\"') \\\n",
    "    .groupby('customer_unique_id', as_index=False) \\\n",
    "    .agg({'order_id': 'nunique'}) \\\n",
    "    .rename(columns={'order_id': 'number_of_orders'})"
   ]
  },
  {
   "cell_type": "code",
   "execution_count": null,
   "metadata": {},
   "outputs": [],
   "source": [
    "num_orders_by_customers.sort_values('number_of_orders', ascending=False)"
   ]
  },
  {
   "cell_type": "code",
   "execution_count": null,
   "metadata": {},
   "outputs": [],
   "source": [
    "num_orders_by_customers.number_of_orders.unique()"
   ]
  },
  {
   "cell_type": "code",
   "execution_count": null,
   "metadata": {},
   "outputs": [],
   "source": [
    "num_customers_with_1_order = num_orders_by_customers.query('number_of_orders == 1').shape[0]"
   ]
  },
  {
   "cell_type": "code",
   "execution_count": null,
   "metadata": {},
   "outputs": [],
   "source": [
    "num_customers_with_1_order"
   ]
  },
  {
   "cell_type": "code",
   "execution_count": null,
   "metadata": {},
   "outputs": [],
   "source": [
    "print(f'Пользователей, которые совершили покупку только один раз - {num_customers_with_1_order}')"
   ]
  },
  {
   "cell_type": "markdown",
   "metadata": {},
   "source": [
    "# Часть 2"
   ]
  },
  {
   "cell_type": "code",
   "execution_count": null,
   "metadata": {
    "scrolled": true
   },
   "outputs": [],
   "source": [
    "orders.head()"
   ]
  },
  {
   "cell_type": "markdown",
   "metadata": {},
   "source": [
    "# Будем считать доставленными заказы, у которых либо статус \"delivered\", либо \"shipped\", \"invoiced\", \"processing\", \"created\", \"approved\" с опозданием не более, чем на 30 дней"
   ]
  },
  {
   "cell_type": "code",
   "execution_count": null,
   "metadata": {},
   "outputs": [],
   "source": [
    "orders['is_delivered'] = \\\n",
    "      ((orders['order_status'] == 'delivered') \\\n",
    "    | ((orders['order_status'] == \"shipped\") \\\n",
    "    | (orders['order_status'] == \"invoiced\") \\\n",
    "    | (orders['order_status'] == \"processing\") \\\n",
    "    | (orders['order_status'] == \"created\") \\\n",
    "    | (orders['order_status'] == \"approved\")) \\\n",
    "    & (orders['is_late'] <= 30)) * 1"
   ]
  },
  {
   "cell_type": "code",
   "execution_count": null,
   "metadata": {},
   "outputs": [],
   "source": [
    "orders.query('is_delivered == 0').shape[0]"
   ]
  },
  {
   "cell_type": "code",
   "execution_count": null,
   "metadata": {},
   "outputs": [],
   "source": [
    "orders['start_of_month'] = orders['order_purchase_timestamp'].to_numpy().astype('datetime64[M]')"
   ]
  },
  {
   "cell_type": "code",
   "execution_count": null,
   "metadata": {},
   "outputs": [],
   "source": [
    "num_of_orders_is_not_delivered = orders \\\n",
    "    .groupby('start_of_month', as_index=False) \\\n",
    "    .agg({'is_delivered': lambda x: x.count() - x.sum()}) \\\n",
    "    .rename(columns={'is_delivered': 'is_not_delivered'})"
   ]
  },
  {
   "cell_type": "code",
   "execution_count": null,
   "metadata": {},
   "outputs": [],
   "source": [
    "num_of_orders_is_not_delivered"
   ]
  },
  {
   "cell_type": "code",
   "execution_count": null,
   "metadata": {},
   "outputs": [],
   "source": [
    "print(f'В среднем в месяц не доставляется {num_of_orders_is_not_delivered[\"is_not_delivered\"].mean()} \\\n",
    "заказов по разным причинам')"
   ]
  },
  {
   "cell_type": "code",
   "execution_count": null,
   "metadata": {},
   "outputs": [],
   "source": [
    "(orders['order_purchase_timestamp'].min(), orders['order_purchase_timestamp'].max(), today)"
   ]
  },
  {
   "cell_type": "markdown",
   "metadata": {},
   "source": [
    "# Посмотрим детально на причины "
   ]
  },
  {
   "cell_type": "code",
   "execution_count": null,
   "metadata": {},
   "outputs": [],
   "source": [
    "is_not_delivered_orders = orders \\\n",
    "    .query('order_status != \"delivered\"') \\\n",
    "    .groupby('order_status', as_index=False) \\\n",
    "    .agg({'is_delivered': 'count'}) \\\n",
    "    .rename(columns={'is_delivered': 'is_not_delivered'}) \\\n",
    "    .sort_values('is_not_delivered', ascending=False)"
   ]
  },
  {
   "cell_type": "code",
   "execution_count": null,
   "metadata": {},
   "outputs": [],
   "source": [
    "is_not_delivered_orders"
   ]
  },
  {
   "cell_type": "code",
   "execution_count": null,
   "metadata": {},
   "outputs": [],
   "source": [
    "sns.barplot(data=is_not_delivered_orders, x='is_not_delivered', y='order_status')"
   ]
  },
  {
   "cell_type": "markdown",
   "metadata": {},
   "source": [
    "# Из диаграммы видим, что чуть меньше половины недоставленных заказов приходится на отмененные и недоступные, ну и большая часть - это заказы, которые либо находятся в пути, либо только созданы, либо оплачены, приняты или в обработке. При этом все эти заказы можно считать недоставленными, т.к. они опаздывают более, чем на 30 дней"
   ]
  },
  {
   "cell_type": "markdown",
   "metadata": {},
   "source": [
    "# Часть 3"
   ]
  },
  {
   "cell_type": "code",
   "execution_count": null,
   "metadata": {},
   "outputs": [],
   "source": [
    "public_key_items = 'https://disk.yandex.ru/d/xCsQ0FiC-Ue4Lg'\n",
    "\n",
    "# Получаем загрузочную ссылку\n",
    "final_url_items = base_url + urlencode(dict(public_key_items=public_key))\n",
    "response_items = requests.get(final_url)\n",
    "download_url_items = response.json()['href']\n",
    "\n",
    "# Считываем файл в виде датафрейма\n",
    "items = pd.read_csv(download_url_items)"
   ]
  },
  {
   "cell_type": "code",
   "execution_count": null,
   "metadata": {},
   "outputs": [],
   "source": [
    "items.head()"
   ]
  },
  {
   "cell_type": "code",
   "execution_count": null,
   "metadata": {},
   "outputs": [],
   "source": [
    "items.shape"
   ]
  },
  {
   "cell_type": "code",
   "execution_count": null,
   "metadata": {},
   "outputs": [],
   "source": [
    "products_with_orders = orders.merge(items, how='outer', on='order_id')"
   ]
  },
  {
   "cell_type": "code",
   "execution_count": null,
   "metadata": {},
   "outputs": [],
   "source": [
    "products_with_orders"
   ]
  },
  {
   "cell_type": "code",
   "execution_count": null,
   "metadata": {},
   "outputs": [],
   "source": [
    "# Преобразуем дату создания заказа в день недели\n",
    "\n",
    "products_with_orders['day_of_week'] = products_with_orders['order_purchase_timestamp'].dt.day_name()"
   ]
  },
  {
   "cell_type": "code",
   "execution_count": null,
   "metadata": {},
   "outputs": [],
   "source": [
    "high_sales_day = products_with_orders \\\n",
    "    .query('order_status == \"delivered\"') \\\n",
    "    .groupby('product_id', as_index=False) \\\n",
    "    .agg({'day_of_week': lambda x: x.mode()})"
   ]
  },
  {
   "cell_type": "markdown",
   "metadata": {},
   "source": [
    "# Для каждого товара посчитали день (дни), когда его покупали чаще всего"
   ]
  },
  {
   "cell_type": "code",
   "execution_count": null,
   "metadata": {},
   "outputs": [],
   "source": [
    "high_sales_day"
   ]
  },
  {
   "cell_type": "markdown",
   "metadata": {},
   "source": [
    "# Часть 4"
   ]
  },
  {
   "cell_type": "markdown",
   "metadata": {},
   "source": [
    "# Как и в шаге 1, отберем только покупки"
   ]
  },
  {
   "cell_type": "code",
   "execution_count": null,
   "metadata": {},
   "outputs": [],
   "source": [
    "num_orders_by_customers_every_week = orders \\\n",
    "    .merge(customers, how='left', on='customer_id') \\\n",
    "    .query('order_status == \"delivered\"')"
   ]
  },
  {
   "cell_type": "code",
   "execution_count": null,
   "metadata": {},
   "outputs": [],
   "source": [
    "num_orders_by_customers_every_week"
   ]
  },
  {
   "cell_type": "code",
   "execution_count": null,
   "metadata": {},
   "outputs": [],
   "source": [
    "# Считаем сколько недель в месяце\n",
    "\n",
    "num_orders_by_customers_every_week['weeks_in_month'] = \\\n",
    "    num_orders_by_customers_every_week['order_purchase_timestamp'].dt.days_in_month / 7"
   ]
  },
  {
   "cell_type": "code",
   "execution_count": null,
   "metadata": {},
   "outputs": [],
   "source": [
    "num_orders_by_customers_every_week['start_of_month'] = \\\n",
    "    num_orders_by_customers_every_week['order_purchase_timestamp'].to_numpy().astype('datetime64[M]')"
   ]
  },
  {
   "cell_type": "code",
   "execution_count": null,
   "metadata": {},
   "outputs": [],
   "source": [
    "# Группируем для подсчета количества заказов каждого пользователя за месяц\n",
    "\n",
    "weekly_sales = num_orders_by_customers_every_week \\\n",
    "    .groupby(['customer_unique_id', \n",
    "              'start_of_month',\n",
    "              'weeks_in_month'], as_index=False) \\\n",
    "    .agg({'order_id': 'count'}) \\\n",
    "    .rename(columns={'order_id': 'number_of_orders_per_month'})"
   ]
  },
  {
   "cell_type": "code",
   "execution_count": null,
   "metadata": {},
   "outputs": [],
   "source": [
    "weekly_sales"
   ]
  },
  {
   "cell_type": "code",
   "execution_count": null,
   "metadata": {},
   "outputs": [],
   "source": [
    "weekly_sales.number_of_orders_per_month.unique()"
   ]
  },
  {
   "cell_type": "code",
   "execution_count": null,
   "metadata": {},
   "outputs": [],
   "source": [
    "# Получаем среднее количество заказов каждым пользователем в неделю по месяцам\n",
    "\n",
    "weekly_sales['avg_orders'] = weekly_sales['number_of_orders_per_month'] / weekly_sales['weeks_in_month']"
   ]
  },
  {
   "cell_type": "code",
   "execution_count": null,
   "metadata": {},
   "outputs": [],
   "source": [
    "weekly_sales.sort_values('start_of_month')"
   ]
  },
  {
   "cell_type": "code",
   "execution_count": null,
   "metadata": {},
   "outputs": [],
   "source": [
    "np.sort(weekly_sales.avg_orders.unique())"
   ]
  },
  {
   "cell_type": "markdown",
   "metadata": {},
   "source": [
    "# Часть 5 \n",
    "# Когортный анализ пользователей по оценке retention"
   ]
  },
  {
   "cell_type": "code",
   "execution_count": null,
   "metadata": {},
   "outputs": [],
   "source": [
    "# Табличка с заказами и выручкой от каждого из них\n",
    "\n",
    "orders_with_revenue = products_with_orders \\\n",
    "    .groupby('order_id', as_index=False) \\\n",
    "    .agg({'price': 'sum'}) \\\n",
    "    .rename(columns={'price': 'revenue'}) "
   ]
  },
  {
   "cell_type": "code",
   "execution_count": null,
   "metadata": {},
   "outputs": [],
   "source": [
    "total_table = customers.merge(orders, how='left', on='customer_id').merge(orders_with_revenue, how='left', on='order_id').query('order_status == \"delivered\"')\n",
    "total_table"
   ]
  },
  {
   "cell_type": "code",
   "execution_count": null,
   "metadata": {},
   "outputs": [],
   "source": [
    "users = total_table"
   ]
  },
  {
   "cell_type": "code",
   "execution_count": null,
   "metadata": {
    "scrolled": true
   },
   "outputs": [],
   "source": [
    "users.shape"
   ]
  },
  {
   "cell_type": "code",
   "execution_count": null,
   "metadata": {},
   "outputs": [],
   "source": [
    "# Для каждого пользователя считаю дату регистрации\n",
    "\n",
    "reg_dates = users \\\n",
    "    .groupby('customer_unique_id', as_index=False) \\\n",
    "    .agg({'order_purchase_timestamp': 'min'}) \\\n",
    "    .rename(columns={'order_purchase_timestamp': 'reg_date'})\n",
    "reg_dates"
   ]
  },
  {
   "cell_type": "code",
   "execution_count": null,
   "metadata": {},
   "outputs": [],
   "source": [
    "# Вношу эту дату регистрации в табличку users\n",
    "\n",
    "users = users.merge(reg_dates, how='left', on='customer_unique_id')"
   ]
  },
  {
   "cell_type": "code",
   "execution_count": null,
   "metadata": {},
   "outputs": [],
   "source": [
    "users = users.rename(columns={'start_of_month': 'transaction_month'})"
   ]
  },
  {
   "cell_type": "code",
   "execution_count": null,
   "metadata": {},
   "outputs": [],
   "source": [
    "# Т.к. для когортного анализа меня интересует месяц регистрации, а не дата целиком, преобразую reg_date в reg_month\n",
    "\n",
    "users['reg_month'] = users['reg_date'].to_numpy().astype('datetime64[M]')"
   ]
  },
  {
   "cell_type": "code",
   "execution_count": null,
   "metadata": {},
   "outputs": [],
   "source": [
    "users = users[['customer_unique_id', 'reg_month', 'transaction_month']]"
   ]
  },
  {
   "cell_type": "code",
   "execution_count": null,
   "metadata": {},
   "outputs": [],
   "source": [
    "users.head()"
   ]
  },
  {
   "cell_type": "code",
   "execution_count": null,
   "metadata": {},
   "outputs": [],
   "source": [
    "users.transaction_month.unique()"
   ]
  },
  {
   "cell_type": "code",
   "execution_count": null,
   "metadata": {},
   "outputs": [],
   "source": [
    "# Далее мне понадобится cross-join для того, чтобы каждому пользователю сопостовлять каждый месяц с начала его регистрации, \n",
    "# и считать его активность помесячно\n",
    "\n",
    "min_date = users.reg_month.min()\n",
    "max_date = users.reg_month.max()"
   ]
  },
  {
   "cell_type": "code",
   "execution_count": null,
   "metadata": {},
   "outputs": [],
   "source": [
    "# Для этого предварительно создадим отдельную табличку со всеми месяцами\n",
    "\n",
    "months = pd.DataFrame(pd.date_range(min_date, max_date, freq='MS'))"
   ]
  },
  {
   "cell_type": "code",
   "execution_count": null,
   "metadata": {},
   "outputs": [],
   "source": [
    "months.columns = ['month']"
   ]
  },
  {
   "cell_type": "code",
   "execution_count": null,
   "metadata": {},
   "outputs": [],
   "source": [
    "months['month'] = pd.to_datetime(months['month'])\n",
    "months"
   ]
  },
  {
   "cell_type": "code",
   "execution_count": null,
   "metadata": {},
   "outputs": [],
   "source": [
    "months.dtypes"
   ]
  },
  {
   "cell_type": "code",
   "execution_count": null,
   "metadata": {},
   "outputs": [],
   "source": [
    "months.shape"
   ]
  },
  {
   "cell_type": "code",
   "execution_count": null,
   "metadata": {},
   "outputs": [],
   "source": [
    "# Cross-join по колонке, состоящей из одинакового символа\n",
    "\n",
    "users['key'] = 0\n",
    "months['key'] = 0"
   ]
  },
  {
   "cell_type": "code",
   "execution_count": null,
   "metadata": {},
   "outputs": [],
   "source": [
    "table = users.merge(months, how='outer', on='key')"
   ]
  },
  {
   "cell_type": "code",
   "execution_count": null,
   "metadata": {},
   "outputs": [],
   "source": [
    "table.dtypes"
   ]
  },
  {
   "cell_type": "code",
   "execution_count": null,
   "metadata": {},
   "outputs": [],
   "source": [
    "table['month'] = pd.to_datetime(table['month'])"
   ]
  },
  {
   "cell_type": "code",
   "execution_count": null,
   "metadata": {},
   "outputs": [],
   "source": [
    "# Теперь отдельно создадим табличку с транзакциями по каждому пользователю помесячно, \n",
    "# чтобы в дальнейшем всё это соединить в одну табличку\n",
    "\n",
    "transactions = total_table.groupby(['customer_unique_id', 'start_of_month'], as_index=False).agg({'revenue': 'sum'})"
   ]
  },
  {
   "cell_type": "code",
   "execution_count": null,
   "metadata": {},
   "outputs": [],
   "source": [
    "transactions = transactions.rename(columns={'start_of_month': 'transaction_month'})"
   ]
  },
  {
   "cell_type": "code",
   "execution_count": null,
   "metadata": {},
   "outputs": [],
   "source": [
    "transactions"
   ]
  },
  {
   "cell_type": "code",
   "execution_count": null,
   "metadata": {},
   "outputs": [],
   "source": [
    "# Наконец, создаем финальную табличку по каждому пользователю, в которой каждому пользователю соответсвуют каждый месяц\n",
    "\n",
    "table = table.merge(transactions, how='left', \\\n",
    "            left_on=['customer_unique_id', 'month'], \\\n",
    "            right_on=['customer_unique_id', 'transaction_month']) \\\n",
    "    .drop(columns=['key', 'transaction_month_x', 'transaction_month_y'])"
   ]
  },
  {
   "cell_type": "code",
   "execution_count": null,
   "metadata": {},
   "outputs": [],
   "source": [
    "# Нас не интересуют месяцы, которые были раньше месяца регистрации пользователя, поэтому просто удалим эти строки\n",
    "\n",
    "table = table[table['month'] >= table['reg_month']]"
   ]
  },
  {
   "cell_type": "code",
   "execution_count": null,
   "metadata": {},
   "outputs": [],
   "source": [
    "# Для подсчета retention'a создадим кононку 'action', которая будет равна 1, если пользователь был активен в этом месяце,\n",
    "# и 0 в ином случае\n",
    "\n",
    "table['action'] = (table['revenue'] > 0) * 1"
   ]
  },
  {
   "cell_type": "code",
   "execution_count": null,
   "metadata": {},
   "outputs": [],
   "source": [
    "table"
   ]
  },
  {
   "cell_type": "code",
   "execution_count": null,
   "metadata": {},
   "outputs": [],
   "source": [
    "# Для проверки посчитаю сколько у меня получилось уникальных пользователей, которые совершили покупку\n",
    "\n",
    "table.query('action == 1').groupby('customer_unique_id', as_index=False).agg({'action': 'sum'}).shape[0]"
   ]
  },
  {
   "cell_type": "code",
   "execution_count": null,
   "metadata": {},
   "outputs": [],
   "source": [
    "# И для исходной таблички\n",
    "\n",
    "total_table.groupby('customer_unique_id', as_index=False).agg({'order_id': 'nunique'}).shape[0]"
   ]
  },
  {
   "cell_type": "code",
   "execution_count": null,
   "metadata": {},
   "outputs": [],
   "source": [
    "# Для построения когортной таблицы мне понадобится колонка \"life-time\", то есть просто число месяцев после регистрации\n",
    "\n",
    "table['life_time'] = (table.month.dt.to_period('M') - table.reg_month.dt.to_period('M')).apply(lambda x: x.n)"
   ]
  },
  {
   "cell_type": "code",
   "execution_count": null,
   "metadata": {},
   "outputs": [],
   "source": [
    "table"
   ]
  },
  {
   "cell_type": "code",
   "execution_count": null,
   "metadata": {},
   "outputs": [],
   "source": [
    "# И теперь можем построить эту самую когортную табличку retention'a \n",
    "\n",
    "retention = table.pivot_table(index='reg_month', columns='life_time', values='action', aggfunc='mean')"
   ]
  },
  {
   "cell_type": "code",
   "execution_count": null,
   "metadata": {
    "scrolled": false
   },
   "outputs": [],
   "source": [
    "retention"
   ]
  },
  {
   "cell_type": "code",
   "execution_count": null,
   "metadata": {},
   "outputs": [],
   "source": [
    "# Сделаем ее более удобочитаемой\n",
    "\n",
    "ur_style = (retention\n",
    "            .style\n",
    "            .set_caption('User retention by cohort')  # добавляем подпись\n",
    "            .background_gradient(cmap='viridis')  # раскрашиваем ячейки по столбцам\n",
    "            .highlight_null('white')  # делаем белый фон для значений NaN\n",
    "            .format(\"{:.2%}\", na_rep=\"\"))  # числа форматируем как проценты, NaN заменяем на пустоту\n",
    "ur_style"
   ]
  },
  {
   "cell_type": "markdown",
   "metadata": {},
   "source": [
    "# Когорта с самым высоким retention на 3-й месяц - это когорта 2017-06, у которой этот показатель равняется 1.3%"
   ]
  },
  {
   "cell_type": "code",
   "execution_count": null,
   "metadata": {},
   "outputs": [],
   "source": [
    "print(f'Опоздавших заказов {total_table[total_table[\"is_late\"] > 0].shape[0] / total_table.shape[0] * 100:.2f}%')"
   ]
  },
  {
   "cell_type": "markdown",
   "metadata": {},
   "source": [
    "# Из когортного анализа можем сделать вывод, что пользователи имеют очень низкий retention, то есть имеет место быть очень сильный отток, на вопрос почему я затрудняюсь ответить ввиду недостаточного количества данных, т.к. мое предположение о некачественной доставке, скорее всего, неверно (всего около 7% заказов, доставленных позже срока)"
   ]
  },
  {
   "cell_type": "markdown",
   "metadata": {},
   "source": [
    "# Часть 6\n",
    "# RFM-segmentation"
   ]
  },
  {
   "cell_type": "code",
   "execution_count": null,
   "metadata": {},
   "outputs": [],
   "source": [
    "rfm_table = total_table.groupby('customer_unique_id', as_index=False).agg({'order_purchase_timestamp': 'max',\n",
    "                                                               'order_id': 'nunique',\n",
    "                                                               'revenue': 'sum'}) \\\n",
    "    .rename(columns={'order_purchase_timestamp': 'recency',\n",
    "                     'order_id': 'frequency',\n",
    "                     'revenue': 'monetary'})"
   ]
  },
  {
   "cell_type": "code",
   "execution_count": null,
   "metadata": {},
   "outputs": [],
   "source": [
    "rfm_table"
   ]
  },
  {
   "cell_type": "code",
   "execution_count": null,
   "metadata": {},
   "outputs": [],
   "source": [
    "rfm_table['recency'] = (today - rfm_table['recency']).dt.days"
   ]
  },
  {
   "cell_type": "markdown",
   "metadata": {},
   "source": [
    "# Для создания R-кластера я воспользуюсь разбивкой на квантили с помощью функции pd.qcut() с параметром labels=False для получания не диапазонов, а целых значений. Далее, инвертирую значения, чтобы R и recency находились в обратной пропорции: чем выше recency, тем ниже R-score."
   ]
  },
  {
   "cell_type": "code",
   "execution_count": null,
   "metadata": {},
   "outputs": [],
   "source": [
    "rfm_table['r'] = (4 - pd.qcut(rfm_table['recency'], q=4, labels=False))"
   ]
  },
  {
   "cell_type": "code",
   "execution_count": null,
   "metadata": {},
   "outputs": [],
   "source": [
    "rfm_table"
   ]
  },
  {
   "cell_type": "code",
   "execution_count": null,
   "metadata": {},
   "outputs": [],
   "source": [
    "rfm_table.groupby('r', as_index=False).agg({'recency': ['mean', 'count']})"
   ]
  },
  {
   "cell_type": "code",
   "execution_count": null,
   "metadata": {},
   "outputs": [],
   "source": [
    "# rfm_table['f'] = (4 - pd.qcut(rfm_table['frequency'], q=4, labels=False, duplicates='drop'))"
   ]
  },
  {
   "cell_type": "code",
   "execution_count": null,
   "metadata": {},
   "outputs": [],
   "source": [
    "# rfm_table.groupby('f', as_index=False).agg({'frequency': ['mean', 'count']})"
   ]
  },
  {
   "cell_type": "code",
   "execution_count": null,
   "metadata": {},
   "outputs": [],
   "source": [
    "rfm_table.frequency.value_counts()"
   ]
  },
  {
   "cell_type": "markdown",
   "metadata": {},
   "source": [
    "# Понимаем, что с помощью квантилей не получится корректно разбить наш столбец frequency на бакеты, т.к. в нем слишком много \"1\" и \"2\". Сделаем F-кластер вручную с помощью функции f(x), предварительно посмотрев на данные частот"
   ]
  },
  {
   "cell_type": "code",
   "execution_count": null,
   "metadata": {},
   "outputs": [],
   "source": [
    "def f(x):\n",
    "    if x == 1:\n",
    "        return 1\n",
    "    if x in [2, 3]:\n",
    "        return 2\n",
    "    if x in [4, 5, 6]:\n",
    "        return 3\n",
    "    return 4"
   ]
  },
  {
   "cell_type": "code",
   "execution_count": null,
   "metadata": {},
   "outputs": [],
   "source": [
    "rfm_table['f'] = rfm_table['frequency'].apply(f)"
   ]
  },
  {
   "cell_type": "code",
   "execution_count": null,
   "metadata": {},
   "outputs": [],
   "source": [
    "rfm_table"
   ]
  },
  {
   "cell_type": "code",
   "execution_count": null,
   "metadata": {},
   "outputs": [],
   "source": [
    "rfm_table.groupby('f', as_index=False).agg({'frequency': ['mean', 'count']})"
   ]
  },
  {
   "cell_type": "markdown",
   "metadata": {},
   "source": [
    "# M-кластер попробуем создать через квантили"
   ]
  },
  {
   "cell_type": "code",
   "execution_count": null,
   "metadata": {},
   "outputs": [],
   "source": [
    "rfm_table['m'] = pd.qcut(rfm_table['monetary'], q=4, labels=False) + 1"
   ]
  },
  {
   "cell_type": "code",
   "execution_count": null,
   "metadata": {},
   "outputs": [],
   "source": [
    "rfm_table"
   ]
  },
  {
   "cell_type": "code",
   "execution_count": null,
   "metadata": {},
   "outputs": [],
   "source": [
    "rfm_table.groupby('m', as_index=False).agg({'monetary': ['mean', 'count']})"
   ]
  },
  {
   "cell_type": "code",
   "execution_count": null,
   "metadata": {},
   "outputs": [],
   "source": [
    "rfm_table['monetary'].min(), rfm_table['monetary'].max()"
   ]
  },
  {
   "cell_type": "markdown",
   "metadata": {},
   "source": [
    "# С помощью квантилей кластеризация явно некорректная, поэтому создам его вручную для более правильного разбиения"
   ]
  },
  {
   "cell_type": "code",
   "execution_count": null,
   "metadata": {},
   "outputs": [],
   "source": [
    "sns.displot(rfm_table.monetary, height=8.27, aspect=11.7/8.27)"
   ]
  },
  {
   "cell_type": "code",
   "execution_count": null,
   "metadata": {},
   "outputs": [],
   "source": [
    "# Посмотрим в масштабе подробнее правую часть распределения\n",
    "\n",
    "sns.displot(rfm_table.query('monetary > 1000').monetary, height=8.27, aspect=11.7/8.27)"
   ]
  },
  {
   "cell_type": "code",
   "execution_count": null,
   "metadata": {},
   "outputs": [],
   "source": [
    "def m(x):\n",
    "    if 0 <= x < 400:\n",
    "        return 1\n",
    "    if 400 <= x < 1200:\n",
    "        return 2\n",
    "    if 1200 <= x < 4000:\n",
    "        return 3\n",
    "    return 4"
   ]
  },
  {
   "cell_type": "code",
   "execution_count": null,
   "metadata": {},
   "outputs": [],
   "source": [
    "rfm_table['m'] = rfm_table['monetary'].apply(m)"
   ]
  },
  {
   "cell_type": "code",
   "execution_count": null,
   "metadata": {},
   "outputs": [],
   "source": [
    "rfm_table.groupby('m', as_index=False).agg({'monetary': ['mean', 'count']})"
   ]
  },
  {
   "cell_type": "code",
   "execution_count": null,
   "metadata": {},
   "outputs": [],
   "source": [
    "rfm_table['rfm_score'] = rfm_table['r'] + rfm_table['f'] + rfm_table['m']"
   ]
  },
  {
   "cell_type": "code",
   "execution_count": null,
   "metadata": {},
   "outputs": [],
   "source": [
    "rfm_table['rfm_segment'] = (rfm_table['r']).astype(str) + (rfm_table['f']).astype(str) + (rfm_table['m']).astype(str)"
   ]
  },
  {
   "cell_type": "code",
   "execution_count": null,
   "metadata": {},
   "outputs": [],
   "source": [
    "rfm_table"
   ]
  },
  {
   "cell_type": "code",
   "execution_count": null,
   "metadata": {},
   "outputs": [],
   "source": [
    "rfm_table \\\n",
    "    .groupby('rfm_score', as_index=False) \\\n",
    "    .agg({'customer_unique_id': 'nunique'}) \\\n",
    "    .rename(columns={'customer_unique_id': 'number_of_customers'}) \\\n",
    "    .sort_values('number_of_customers', ascending=False) \\\n",
    "    .head(10)"
   ]
  },
  {
   "cell_type": "markdown",
   "metadata": {},
   "source": [
    "# Как видно из таблички выше, большая часть пользователей имеет очень низкий RFM-score. Посмотрим чуть подробнее"
   ]
  },
  {
   "cell_type": "code",
   "execution_count": null,
   "metadata": {},
   "outputs": [],
   "source": [
    "# Посмотрим какие кластеры включают в себя наибольшее количество пользователей\n",
    "\n",
    "size_of_segments = rfm_table \\\n",
    "    .groupby('rfm_segment', as_index=False) \\\n",
    "    .agg({'customer_unique_id': 'nunique'}) \\\n",
    "    .rename(columns={'customer_unique_id': 'number_of_customers'}) \\\n",
    "    .sort_values('number_of_customers', ascending=False)\n",
    "size_of_segments.head(10)"
   ]
  },
  {
   "cell_type": "code",
   "execution_count": null,
   "metadata": {},
   "outputs": [],
   "source": [
    "# Посмотрим как распределены сегменты\n",
    "\n",
    "ax = sns.displot(rfm_table.rfm_segment, height=8.27, aspect=11.7/8.27).set_xticklabels(rotation=45)"
   ]
  },
  {
   "cell_type": "code",
   "execution_count": null,
   "metadata": {},
   "outputs": [],
   "source": [
    "rfm = total_table.groupby('customer_unique_id', as_index=False).agg({'order_purchase_timestamp': 'max',\n",
    "                                                               'order_id': 'nunique',\n",
    "                                                               'revenue': 'sum'}) \\\n",
    "    .rename(columns={'order_purchase_timestamp': 'recency',\n",
    "                     'order_id': 'frequency',\n",
    "                     'revenue': 'monetary'})"
   ]
  },
  {
   "cell_type": "code",
   "execution_count": null,
   "metadata": {},
   "outputs": [],
   "source": [
    "rfm['recency'] = (today - rfm['recency']).dt.days"
   ]
  },
  {
   "cell_type": "code",
   "execution_count": null,
   "metadata": {},
   "outputs": [],
   "source": [
    "rfm['recency'] = pd.qcut(rfm['recency'], q=4)"
   ]
  },
  {
   "cell_type": "code",
   "execution_count": null,
   "metadata": {},
   "outputs": [],
   "source": [
    "r = rfm['recency'].drop_duplicates().sort_values(ascending=False).reset_index(drop=True)"
   ]
  },
  {
   "cell_type": "code",
   "execution_count": null,
   "metadata": {},
   "outputs": [],
   "source": [
    "f = pd.Series(data=([0, 1], [2, 3], [4, 5, 6], [7, 17]))"
   ]
  },
  {
   "cell_type": "code",
   "execution_count": null,
   "metadata": {},
   "outputs": [],
   "source": [
    "m = pd.Series(data=([0, 399.9], [400, 1199.9], [1200, 3999.9], [4000, 13440]))"
   ]
  },
  {
   "cell_type": "code",
   "execution_count": null,
   "metadata": {},
   "outputs": [],
   "source": [
    "rfm = pd.DataFrame(data={'score': range(1, 5), 'recency': r, 'frequency': f, 'monetary': m})"
   ]
  },
  {
   "cell_type": "code",
   "execution_count": null,
   "metadata": {},
   "outputs": [],
   "source": [
    "rfm_segments = rfm_table[['rfm_segment', 'r', 'f', 'm']].merge(rfm[['score', 'recency']], how='left', left_on='r', right_on='score')\n",
    "rfm_segments = rfm_segments.merge(rfm[['score', 'frequency']], how='left', left_on='f', right_on='score')\n",
    "rfm_segments = rfm_segments.merge(rfm[['score', 'monetary']], how='left', left_on='m', right_on='score')"
   ]
  },
  {
   "cell_type": "code",
   "execution_count": null,
   "metadata": {},
   "outputs": [],
   "source": [
    "rfm_segments = rfm_segments[['rfm_segment', 'recency', 'frequency', 'monetary']] \\\n",
    "    .drop_duplicates('rfm_segment').reset_index(drop=True)"
   ]
  },
  {
   "cell_type": "code",
   "execution_count": null,
   "metadata": {},
   "outputs": [],
   "source": [
    "rfm_segments['recency'] = rfm_segments['recency'].astype(str) + ' дней'\n",
    "rfm_segments['frequency'] = rfm_segments['frequency'].astype(str) + ' заказов'\n",
    "rfm_segments['monetary'] = rfm_segments['monetary'].astype(str) + ' рублей'"
   ]
  },
  {
   "cell_type": "code",
   "execution_count": null,
   "metadata": {},
   "outputs": [],
   "source": [
    "rfm_segments.merge(size_of_segments, how='inner', on='rfm_segment')"
   ]
  },
  {
   "cell_type": "markdown",
   "metadata": {},
   "source": [
    "Выше табличка имеет все сегменты, которые удалось получить из наших данных. Столбцы R, F, M заполнены диапазонами значений соответсвующего сегмента и количество клиентов в каждом из сегментов"
   ]
  },
  {
   "cell_type": "markdown",
   "metadata": {},
   "source": [
    "# Из распределения сегментов можно сделать вывод о том, практически все пользователи находятся в кластерах 411, 111, 211, 311. То есть это люди, которые сделали в разное время всего 1 заказ на небольшую сумму (до 400 рублей). Это еще раз подтверждает вывод, который я сделал в результате когортного анализа о высоком оттоке по разным причинам. Низкий чек заказов не подзволяет говорить о том, что такой низкий retention- это просто специфика данного бизнеса (как например сервис по бронированию авиабилетов, в котором пользователи достаточно редко совершают какие-то сделки), поэтому дал бы совет бизнесу либо пересмотреть качество продукции, либо отделу маркетинга, к примеру, с помощью промо-акции попытаться увеличить retention"
   ]
  }
 ],
 "metadata": {
  "kernelspec": {
   "display_name": "Python 3 (ipykernel)",
   "language": "python",
   "name": "python3"
  },
  "language_info": {
   "codemirror_mode": {
    "name": "ipython",
    "version": 3
   },
   "file_extension": ".py",
   "mimetype": "text/x-python",
   "name": "python",
   "nbconvert_exporter": "python",
   "pygments_lexer": "ipython3",
   "version": "3.11.4"
  }
 },
 "nbformat": 4,
 "nbformat_minor": 4
}
